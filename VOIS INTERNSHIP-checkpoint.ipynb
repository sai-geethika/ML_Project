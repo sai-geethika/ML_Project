{
 "cells": [
  {
   "cell_type": "code",
   "execution_count": 1,
   "id": "96d9641e",
   "metadata": {},
   "outputs": [],
   "source": [
    "# Import necessary libraries\n",
    "import pandas as pd\n",
    "from sklearn.model_selection import train_test_split\n",
    "from sklearn.linear_model import LogisticRegression\n",
    "from sklearn.ensemble import RandomForestClassifier\n",
    "from sklearn.tree import DecisionTreeClassifier\n",
    "from sklearn.metrics import accuracy_score, classification_report, confusion_matrix\n",
    "\n",
    "# Load dataset\n",
    "data = pd.read_csv('VOIS_Dataset.csv')\n"
   ]
  },
  {
   "cell_type": "code",
   "execution_count": 2,
   "id": "6e39565a",
   "metadata": {},
   "outputs": [],
   "source": [
    "\n",
    "# Define features and target variable\n",
    "X = data.drop('Attrition', axis=1)  # Features\n",
    "y = data['Attrition']  # Target variable"
   ]
  },
  {
   "cell_type": "code",
   "execution_count": 3,
   "id": "d3d33ae2",
   "metadata": {},
   "outputs": [],
   "source": [
    "\n",
    "# Perform one-hot encoding for categorical columns\n",
    "X = pd.get_dummies(X)\n",
    "\n",
    "# Split data into training and testing sets\n",
    "X_train, X_test, y_train, y_test = train_test_split(X, y, test_size=0.2, random_state=42)"
   ]
  },
  {
   "cell_type": "code",
   "execution_count": 4,
   "id": "5c4e7df8",
   "metadata": {},
   "outputs": [],
   "source": [
    "\n",
    "# Initialize models\n",
    "logistic_reg = LogisticRegression(max_iter=10000)\n",
    "random_forest = RandomForestClassifier(n_estimators=100, random_state=42)\n",
    "decision_tree = DecisionTreeClassifier(random_state=42)\n"
   ]
  },
  {
   "cell_type": "code",
   "execution_count": 5,
   "id": "e81bb149",
   "metadata": {},
   "outputs": [
    {
     "name": "stdout",
     "output_type": "stream",
     "text": [
      "Model: Logistic Regression\n",
      "Accuracy: 89.80%\n",
      "\n",
      "Confusion Matrix:\n",
      "[[250   5]\n",
      " [ 25  14]]\n",
      "\n",
      "Classification Report:\n",
      "              precision    recall  f1-score   support\n",
      "\n",
      "          No       0.91      0.98      0.94       255\n",
      "         Yes       0.74      0.36      0.48        39\n",
      "\n",
      "    accuracy                           0.90       294\n",
      "   macro avg       0.82      0.67      0.71       294\n",
      "weighted avg       0.89      0.90      0.88       294\n",
      "\n",
      "-------------------------------------------\n",
      "Model: Random Forest\n",
      "Accuracy: 87.76%\n",
      "\n",
      "Confusion Matrix:\n",
      "[[252   3]\n",
      " [ 33   6]]\n",
      "\n",
      "Classification Report:\n",
      "              precision    recall  f1-score   support\n",
      "\n",
      "          No       0.88      0.99      0.93       255\n",
      "         Yes       0.67      0.15      0.25        39\n",
      "\n",
      "    accuracy                           0.88       294\n",
      "   macro avg       0.78      0.57      0.59       294\n",
      "weighted avg       0.86      0.88      0.84       294\n",
      "\n",
      "-------------------------------------------\n",
      "Model: Decision Tree\n",
      "Accuracy: 77.89%\n",
      "\n",
      "Confusion Matrix:\n",
      "[[220  35]\n",
      " [ 30   9]]\n",
      "\n",
      "Classification Report:\n",
      "              precision    recall  f1-score   support\n",
      "\n",
      "          No       0.88      0.86      0.87       255\n",
      "         Yes       0.20      0.23      0.22        39\n",
      "\n",
      "    accuracy                           0.78       294\n",
      "   macro avg       0.54      0.55      0.54       294\n",
      "weighted avg       0.79      0.78      0.78       294\n",
      "\n",
      "-------------------------------------------\n"
     ]
    }
   ],
   "source": [
    "# Train and evaluate models\n",
    "models = {\n",
    "    'Logistic Regression': logistic_reg,\n",
    "    'Random Forest': random_forest,\n",
    "    'Decision Tree': decision_tree\n",
    "}\n",
    "\n",
    "accuracy_results = {}\n",
    "for name, model in models.items():\n",
    "    model.fit(X_train, y_train)\n",
    "    predictions = model.predict(X_test)\n",
    "    accuracy = accuracy_score(y_test, predictions)\n",
    "    accuracy_results[name] = accuracy\n",
    "    \n",
    "    print(f\"Model: {name}\")\n",
    "    print(f\"Accuracy: {accuracy * 100:.2f}%\")\n",
    "    \n",
    "    print(\"\\nConfusion Matrix:\")\n",
    "    print(confusion_matrix(y_test, predictions))\n",
    "    \n",
    "    print(\"\\nClassification Report:\")\n",
    "    print(classification_report(y_test, predictions))\n",
    "    print(\"-------------------------------------------\")"
   ]
  },
  {
   "cell_type": "code",
   "execution_count": 6,
   "id": "8e35448b",
   "metadata": {},
   "outputs": [
    {
     "name": "stdout",
     "output_type": "stream",
     "text": [
      "The best model is: Logistic Regression\n",
      "Accuracy of the best model: 89.80%\n"
     ]
    }
   ],
   "source": [
    "# Find the best model\n",
    "best_model = max(accuracy_results, key=accuracy_results.get)\n",
    "best_accuracy = accuracy_results[best_model]\n",
    "\n",
    "print(f\"The best model is: {best_model}\")\n",
    "print(f\"Accuracy of the best model: {best_accuracy * 100:.2f}%\")"
   ]
  },
  {
   "cell_type": "code",
   "execution_count": null,
   "id": "3aae040c",
   "metadata": {},
   "outputs": [],
   "source": []
  }
 ],
 "metadata": {
  "kernelspec": {
   "display_name": "Python 3 (ipykernel)",
   "language": "python",
   "name": "python3"
  },
  "language_info": {
   "codemirror_mode": {
    "name": "ipython",
    "version": 3
   },
   "file_extension": ".py",
   "mimetype": "text/x-python",
   "name": "python",
   "nbconvert_exporter": "python",
   "pygments_lexer": "ipython3",
   "version": "3.11.5"
  }
 },
 "nbformat": 4,
 "nbformat_minor": 5
}
